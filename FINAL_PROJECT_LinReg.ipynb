{
 "cells": [
  {
   "cell_type": "code",
   "execution_count": 2,
   "metadata": {},
   "outputs": [],
   "source": [
    "import numpy as np\n",
    "import pandas as pd\n",
    "from sklearn.model_selection import train_test_split\n",
    "from sklearn.preprocessing import StandardScaler\n",
    "from sklearn.impute import SimpleImputer\n",
    "from sklearn.ensemble import RandomForestClassifier\n",
    "from sklearn.metrics import accuracy_score, mean_squared_error\n",
    "from sklearn.linear_model import LinearRegression\n",
    "\n"
   ]
  },
  {
   "cell_type": "code",
   "execution_count": 54,
   "metadata": {},
   "outputs": [],
   "source": [
    "import matplotlib.pyplot as plt\n",
    "from sklearn.metrics import PredictionErrorDisplay"
   ]
  },
  {
   "cell_type": "code",
   "execution_count": 3,
   "metadata": {},
   "outputs": [],
   "source": [
    "# Make notebook output stable across runs\n",
    "random_state = 100\n",
    "np.random.seed(random_state)"
   ]
  },
  {
   "cell_type": "markdown",
   "metadata": {},
   "source": [
    "REGRESSION"
   ]
  },
  {
   "cell_type": "code",
   "execution_count": 52,
   "metadata": {},
   "outputs": [
    {
     "data": {
      "text/html": [
       "<div>\n",
       "<style scoped>\n",
       "    .dataframe tbody tr th:only-of-type {\n",
       "        vertical-align: middle;\n",
       "    }\n",
       "\n",
       "    .dataframe tbody tr th {\n",
       "        vertical-align: top;\n",
       "    }\n",
       "\n",
       "    .dataframe thead th {\n",
       "        text-align: right;\n",
       "    }\n",
       "</style>\n",
       "<table border=\"1\" class=\"dataframe\">\n",
       "  <thead>\n",
       "    <tr style=\"text-align: right;\">\n",
       "      <th></th>\n",
       "      <th>CRS_DEP_TIME</th>\n",
       "      <th>CRS_ELAPSED_TIME</th>\n",
       "      <th>DISTANCE</th>\n",
       "      <th>CANCELLED</th>\n",
       "      <th>DELAYED_TIME</th>\n",
       "      <th>DELAYED</th>\n",
       "      <th>AIRLINE_CODE_9E</th>\n",
       "      <th>AIRLINE_CODE_AA</th>\n",
       "      <th>AIRLINE_CODE_AS</th>\n",
       "      <th>AIRLINE_CODE_B6</th>\n",
       "      <th>...</th>\n",
       "      <th>MONTH_10</th>\n",
       "      <th>MONTH_11</th>\n",
       "      <th>MONTH_12</th>\n",
       "      <th>DAY_OF_WEEK_0</th>\n",
       "      <th>DAY_OF_WEEK_1</th>\n",
       "      <th>DAY_OF_WEEK_2</th>\n",
       "      <th>DAY_OF_WEEK_3</th>\n",
       "      <th>DAY_OF_WEEK_4</th>\n",
       "      <th>DAY_OF_WEEK_5</th>\n",
       "      <th>DAY_OF_WEEK_6</th>\n",
       "    </tr>\n",
       "  </thead>\n",
       "  <tbody>\n",
       "    <tr>\n",
       "      <th>0</th>\n",
       "      <td>715</td>\n",
       "      <td>186.0</td>\n",
       "      <td>1065.0</td>\n",
       "      <td>0.0</td>\n",
       "      <td>0.0</td>\n",
       "      <td>0</td>\n",
       "      <td>0</td>\n",
       "      <td>0</td>\n",
       "      <td>0</td>\n",
       "      <td>0</td>\n",
       "      <td>...</td>\n",
       "      <td>0</td>\n",
       "      <td>0</td>\n",
       "      <td>0</td>\n",
       "      <td>0</td>\n",
       "      <td>0</td>\n",
       "      <td>1</td>\n",
       "      <td>0</td>\n",
       "      <td>0</td>\n",
       "      <td>0</td>\n",
       "      <td>0</td>\n",
       "    </tr>\n",
       "    <tr>\n",
       "      <th>1</th>\n",
       "      <td>1280</td>\n",
       "      <td>235.0</td>\n",
       "      <td>1399.0</td>\n",
       "      <td>0.0</td>\n",
       "      <td>0.0</td>\n",
       "      <td>0</td>\n",
       "      <td>0</td>\n",
       "      <td>0</td>\n",
       "      <td>0</td>\n",
       "      <td>0</td>\n",
       "      <td>...</td>\n",
       "      <td>0</td>\n",
       "      <td>1</td>\n",
       "      <td>0</td>\n",
       "      <td>0</td>\n",
       "      <td>0</td>\n",
       "      <td>0</td>\n",
       "      <td>0</td>\n",
       "      <td>0</td>\n",
       "      <td>1</td>\n",
       "      <td>0</td>\n",
       "    </tr>\n",
       "    <tr>\n",
       "      <th>2</th>\n",
       "      <td>594</td>\n",
       "      <td>118.0</td>\n",
       "      <td>680.0</td>\n",
       "      <td>0.0</td>\n",
       "      <td>0.0</td>\n",
       "      <td>0</td>\n",
       "      <td>0</td>\n",
       "      <td>0</td>\n",
       "      <td>0</td>\n",
       "      <td>0</td>\n",
       "      <td>...</td>\n",
       "      <td>0</td>\n",
       "      <td>0</td>\n",
       "      <td>0</td>\n",
       "      <td>0</td>\n",
       "      <td>0</td>\n",
       "      <td>0</td>\n",
       "      <td>0</td>\n",
       "      <td>1</td>\n",
       "      <td>0</td>\n",
       "      <td>0</td>\n",
       "    </tr>\n",
       "    <tr>\n",
       "      <th>3</th>\n",
       "      <td>969</td>\n",
       "      <td>260.0</td>\n",
       "      <td>1589.0</td>\n",
       "      <td>0.0</td>\n",
       "      <td>24.0</td>\n",
       "      <td>1</td>\n",
       "      <td>0</td>\n",
       "      <td>0</td>\n",
       "      <td>0</td>\n",
       "      <td>0</td>\n",
       "      <td>...</td>\n",
       "      <td>0</td>\n",
       "      <td>0</td>\n",
       "      <td>0</td>\n",
       "      <td>1</td>\n",
       "      <td>0</td>\n",
       "      <td>0</td>\n",
       "      <td>0</td>\n",
       "      <td>0</td>\n",
       "      <td>0</td>\n",
       "      <td>0</td>\n",
       "    </tr>\n",
       "    <tr>\n",
       "      <th>4</th>\n",
       "      <td>1120</td>\n",
       "      <td>181.0</td>\n",
       "      <td>985.0</td>\n",
       "      <td>0.0</td>\n",
       "      <td>0.0</td>\n",
       "      <td>0</td>\n",
       "      <td>0</td>\n",
       "      <td>0</td>\n",
       "      <td>0</td>\n",
       "      <td>0</td>\n",
       "      <td>...</td>\n",
       "      <td>0</td>\n",
       "      <td>0</td>\n",
       "      <td>0</td>\n",
       "      <td>0</td>\n",
       "      <td>0</td>\n",
       "      <td>0</td>\n",
       "      <td>0</td>\n",
       "      <td>0</td>\n",
       "      <td>0</td>\n",
       "      <td>1</td>\n",
       "    </tr>\n",
       "  </tbody>\n",
       "</table>\n",
       "<p>5 rows × 190 columns</p>\n",
       "</div>"
      ],
      "text/plain": [
       "   CRS_DEP_TIME  CRS_ELAPSED_TIME  DISTANCE  CANCELLED  DELAYED_TIME  DELAYED  \\\n",
       "0           715             186.0    1065.0        0.0           0.0        0   \n",
       "1          1280             235.0    1399.0        0.0           0.0        0   \n",
       "2           594             118.0     680.0        0.0           0.0        0   \n",
       "3           969             260.0    1589.0        0.0          24.0        1   \n",
       "4          1120             181.0     985.0        0.0           0.0        0   \n",
       "\n",
       "   AIRLINE_CODE_9E  AIRLINE_CODE_AA  AIRLINE_CODE_AS  AIRLINE_CODE_B6  ...  \\\n",
       "0                0                0                0                0  ...   \n",
       "1                0                0                0                0  ...   \n",
       "2                0                0                0                0  ...   \n",
       "3                0                0                0                0  ...   \n",
       "4                0                0                0                0  ...   \n",
       "\n",
       "   MONTH_10  MONTH_11  MONTH_12  DAY_OF_WEEK_0  DAY_OF_WEEK_1  DAY_OF_WEEK_2  \\\n",
       "0         0         0         0              0              0              1   \n",
       "1         0         1         0              0              0              0   \n",
       "2         0         0         0              0              0              0   \n",
       "3         0         0         0              1              0              0   \n",
       "4         0         0         0              0              0              0   \n",
       "\n",
       "   DAY_OF_WEEK_3  DAY_OF_WEEK_4  DAY_OF_WEEK_5  DAY_OF_WEEK_6  \n",
       "0              0              0              0              0  \n",
       "1              0              0              1              0  \n",
       "2              0              1              0              0  \n",
       "3              0              0              0              0  \n",
       "4              0              0              0              1  \n",
       "\n",
       "[5 rows x 190 columns]"
      ]
     },
     "execution_count": 52,
     "metadata": {},
     "output_type": "execute_result"
    }
   ],
   "source": [
    "df.head()"
   ]
  },
  {
   "cell_type": "code",
   "execution_count": 5,
   "metadata": {},
   "outputs": [],
   "source": [
    "df = pd.read_csv('../flights_sample_3m_cleaned.csv')"
   ]
  },
  {
   "cell_type": "code",
   "execution_count": 6,
   "metadata": {},
   "outputs": [],
   "source": [
    "# Cancelled flight show as no delay and no delay time. But they are still a failure\n",
    "# For our delay time model, we will only attempt non cancelled flight, since\n",
    "# cancelled flights likely have similar predictors, and so classifying them as 0 delay\n",
    "# will throw the model off\n",
    "\n",
    "# Could also be reasonable to set a value for delay time for the cancelled flights,\n",
    "# however I think there would need to be more expertise to decide what a good value should be there\n",
    "\n",
    "# Instead, if we try to classify flights, then this model can be used to predict delay times\n",
    "# for flights that are not classified as cancelled prediction\n",
    "\n",
    "df_delayed = df[df['CANCELLED'] == 0]"
   ]
  },
  {
   "cell_type": "code",
   "execution_count": 7,
   "metadata": {},
   "outputs": [
    {
     "name": "stderr",
     "output_type": "stream",
     "text": [
      "/var/folders/42/lwn0p9jn7tx0bxw3zzznklvr0000gn/T/ipykernel_10902/1952734233.py:1: SettingWithCopyWarning: \n",
      "A value is trying to be set on a copy of a slice from a DataFrame\n",
      "\n",
      "See the caveats in the documentation: https://pandas.pydata.org/pandas-docs/stable/user_guide/indexing.html#returning-a-view-versus-a-copy\n",
      "  df_delayed.drop('CANCELLED', axis=1, inplace=True)\n"
     ]
    }
   ],
   "source": [
    "df_delayed.drop('CANCELLED', axis=1, inplace=True)"
   ]
  },
  {
   "cell_type": "code",
   "execution_count": 21,
   "metadata": {},
   "outputs": [],
   "source": [
    "feature_vars = list(df_delayed.columns)"
   ]
  },
  {
   "cell_type": "code",
   "execution_count": 22,
   "metadata": {},
   "outputs": [],
   "source": [
    "#feature_vars.remove('DELAYED')\n",
    "feature_vars.remove('DELAYED_TIME')"
   ]
  },
  {
   "cell_type": "code",
   "execution_count": 32,
   "metadata": {},
   "outputs": [],
   "source": [
    "# Split data into training and test sets\n",
    "(X_train, X_test, \n",
    " y_train, y_test) = train_test_split(df_delayed[feature_vars], \n",
    "                                                 df_delayed['DELAYED_TIME'], \n",
    "                                                 test_size=0.2,\n",
    "                                                 stratify=df_delayed['DELAYED'], \n",
    "                                                 random_state=random_state)"
   ]
  },
  {
   "cell_type": "code",
   "execution_count": 33,
   "metadata": {},
   "outputs": [],
   "source": [
    "# Drop the delayed column now that we are stratified\n",
    "X_train = X_train.drop('DELAYED', axis=1)\n",
    "X_test = X_test.drop('DELAYED', axis=1)"
   ]
  },
  {
   "cell_type": "code",
   "execution_count": 35,
   "metadata": {},
   "outputs": [],
   "source": [
    "# Standardize features\n",
    "scaler = StandardScaler()\n",
    "X_train = scaler.fit_transform(X_train)\n",
    "X_test = scaler.transform(X_test)"
   ]
  },
  {
   "cell_type": "code",
   "execution_count": 36,
   "metadata": {},
   "outputs": [
    {
     "data": {
      "text/html": [
       "<style>#sk-container-id-1 {color: black;}#sk-container-id-1 pre{padding: 0;}#sk-container-id-1 div.sk-toggleable {background-color: white;}#sk-container-id-1 label.sk-toggleable__label {cursor: pointer;display: block;width: 100%;margin-bottom: 0;padding: 0.3em;box-sizing: border-box;text-align: center;}#sk-container-id-1 label.sk-toggleable__label-arrow:before {content: \"▸\";float: left;margin-right: 0.25em;color: #696969;}#sk-container-id-1 label.sk-toggleable__label-arrow:hover:before {color: black;}#sk-container-id-1 div.sk-estimator:hover label.sk-toggleable__label-arrow:before {color: black;}#sk-container-id-1 div.sk-toggleable__content {max-height: 0;max-width: 0;overflow: hidden;text-align: left;background-color: #f0f8ff;}#sk-container-id-1 div.sk-toggleable__content pre {margin: 0.2em;color: black;border-radius: 0.25em;background-color: #f0f8ff;}#sk-container-id-1 input.sk-toggleable__control:checked~div.sk-toggleable__content {max-height: 200px;max-width: 100%;overflow: auto;}#sk-container-id-1 input.sk-toggleable__control:checked~label.sk-toggleable__label-arrow:before {content: \"▾\";}#sk-container-id-1 div.sk-estimator input.sk-toggleable__control:checked~label.sk-toggleable__label {background-color: #d4ebff;}#sk-container-id-1 div.sk-label input.sk-toggleable__control:checked~label.sk-toggleable__label {background-color: #d4ebff;}#sk-container-id-1 input.sk-hidden--visually {border: 0;clip: rect(1px 1px 1px 1px);clip: rect(1px, 1px, 1px, 1px);height: 1px;margin: -1px;overflow: hidden;padding: 0;position: absolute;width: 1px;}#sk-container-id-1 div.sk-estimator {font-family: monospace;background-color: #f0f8ff;border: 1px dotted black;border-radius: 0.25em;box-sizing: border-box;margin-bottom: 0.5em;}#sk-container-id-1 div.sk-estimator:hover {background-color: #d4ebff;}#sk-container-id-1 div.sk-parallel-item::after {content: \"\";width: 100%;border-bottom: 1px solid gray;flex-grow: 1;}#sk-container-id-1 div.sk-label:hover label.sk-toggleable__label {background-color: #d4ebff;}#sk-container-id-1 div.sk-serial::before {content: \"\";position: absolute;border-left: 1px solid gray;box-sizing: border-box;top: 0;bottom: 0;left: 50%;z-index: 0;}#sk-container-id-1 div.sk-serial {display: flex;flex-direction: column;align-items: center;background-color: white;padding-right: 0.2em;padding-left: 0.2em;position: relative;}#sk-container-id-1 div.sk-item {position: relative;z-index: 1;}#sk-container-id-1 div.sk-parallel {display: flex;align-items: stretch;justify-content: center;background-color: white;position: relative;}#sk-container-id-1 div.sk-item::before, #sk-container-id-1 div.sk-parallel-item::before {content: \"\";position: absolute;border-left: 1px solid gray;box-sizing: border-box;top: 0;bottom: 0;left: 50%;z-index: -1;}#sk-container-id-1 div.sk-parallel-item {display: flex;flex-direction: column;z-index: 1;position: relative;background-color: white;}#sk-container-id-1 div.sk-parallel-item:first-child::after {align-self: flex-end;width: 50%;}#sk-container-id-1 div.sk-parallel-item:last-child::after {align-self: flex-start;width: 50%;}#sk-container-id-1 div.sk-parallel-item:only-child::after {width: 0;}#sk-container-id-1 div.sk-dashed-wrapped {border: 1px dashed gray;margin: 0 0.4em 0.5em 0.4em;box-sizing: border-box;padding-bottom: 0.4em;background-color: white;}#sk-container-id-1 div.sk-label label {font-family: monospace;font-weight: bold;display: inline-block;line-height: 1.2em;}#sk-container-id-1 div.sk-label-container {text-align: center;}#sk-container-id-1 div.sk-container {/* jupyter's `normalize.less` sets `[hidden] { display: none; }` but bootstrap.min.css set `[hidden] { display: none !important; }` so we also need the `!important` here to be able to override the default hidden behavior on the sphinx rendered scikit-learn.org. See: https://github.com/scikit-learn/scikit-learn/issues/21755 */display: inline-block !important;position: relative;}#sk-container-id-1 div.sk-text-repr-fallback {display: none;}</style><div id=\"sk-container-id-1\" class=\"sk-top-container\"><div class=\"sk-text-repr-fallback\"><pre>LinearRegression()</pre><b>In a Jupyter environment, please rerun this cell to show the HTML representation or trust the notebook. <br />On GitHub, the HTML representation is unable to render, please try loading this page with nbviewer.org.</b></div><div class=\"sk-container\" hidden><div class=\"sk-item\"><div class=\"sk-estimator sk-toggleable\"><input class=\"sk-toggleable__control sk-hidden--visually\" id=\"sk-estimator-id-1\" type=\"checkbox\" checked><label for=\"sk-estimator-id-1\" class=\"sk-toggleable__label sk-toggleable__label-arrow\">LinearRegression</label><div class=\"sk-toggleable__content\"><pre>LinearRegression()</pre></div></div></div></div></div>"
      ],
      "text/plain": [
       "LinearRegression()"
      ]
     },
     "execution_count": 36,
     "metadata": {},
     "output_type": "execute_result"
    }
   ],
   "source": [
    "# Model for predicting delay duration - Regression\n",
    "model_delay = LinearRegression()\n",
    "model_delay.fit(X_train, y_train)"
   ]
  },
  {
   "cell_type": "code",
   "execution_count": 37,
   "metadata": {},
   "outputs": [
    {
     "name": "stdout",
     "output_type": "stream",
     "text": [
      "Mean Squared Error for Delay Duration Prediction: 2052.0337679599593\n"
     ]
    }
   ],
   "source": [
    "predictions_delay = model_delay.predict(X_test)\n",
    "print(\"Mean Squared Error for Delay Duration Prediction:\", mean_squared_error(y_test, predictions_delay))"
   ]
  },
  {
   "cell_type": "code",
   "execution_count": 42,
   "metadata": {},
   "outputs": [
    {
     "data": {
      "text/plain": [
       "(422174,)"
      ]
     },
     "execution_count": 42,
     "metadata": {},
     "output_type": "execute_result"
    }
   ],
   "source": [
    "predictions_delay.shape"
   ]
  },
  {
   "cell_type": "code",
   "execution_count": 39,
   "metadata": {},
   "outputs": [
    {
     "data": {
      "text/plain": [
       "array([ 6.74930479, 19.72196104, 11.10086729, ..., 16.33621886,\n",
       "       15.28153136, 11.96121886])"
      ]
     },
     "execution_count": 39,
     "metadata": {},
     "output_type": "execute_result"
    }
   ],
   "source": [
    "predictions_delay"
   ]
  },
  {
   "cell_type": "code",
   "execution_count": 41,
   "metadata": {},
   "outputs": [
    {
     "data": {
      "text/plain": [
       "416703"
      ]
     },
     "execution_count": 41,
     "metadata": {},
     "output_type": "execute_result"
    }
   ],
   "source": [
    "np.count_nonzero(predictions_delay > 0)"
   ]
  },
  {
   "cell_type": "code",
   "execution_count": 44,
   "metadata": {},
   "outputs": [
    {
     "data": {
      "text/plain": [
       "0.18681017779399015"
      ]
     },
     "execution_count": 44,
     "metadata": {},
     "output_type": "execute_result"
    }
   ],
   "source": [
    "# Get % of original that was delayed\n",
    "df_delayed[df_delayed['DELAYED'] == 1].shape[0] / df_delayed.shape[0]"
   ]
  },
  {
   "cell_type": "code",
   "execution_count": 50,
   "metadata": {},
   "outputs": [
    {
     "data": {
      "text/plain": [
       "76860"
      ]
     },
     "execution_count": 50,
     "metadata": {},
     "output_type": "execute_result"
    }
   ],
   "source": [
    "np.count_nonzero(predictions_delay > 18)"
   ]
  },
  {
   "cell_type": "code",
   "execution_count": 51,
   "metadata": {},
   "outputs": [
    {
     "data": {
      "text/plain": [
       "0.18205763500357672"
      ]
     },
     "execution_count": 51,
     "metadata": {},
     "output_type": "execute_result"
    }
   ],
   "source": [
    "76860 / 422174"
   ]
  },
  {
   "cell_type": "markdown",
   "metadata": {},
   "source": [
    "So in practical use, we may use 18 as a threshold before displaying a flight might be delayed, and show flights with under 18 predicted delay time as normal.\n",
    "\n",
    "Through testing with beta users, could tweak and see what people enjoy more; lowering the threshold "
   ]
  },
  {
   "cell_type": "code",
   "execution_count": 56,
   "metadata": {},
   "outputs": [
    {
     "data": {
      "image/png": "[encoded data removed]",
      "text/plain": [
       "<Figure size 800x400 with 2 Axes>"
      ]
     },
     "metadata": {},
     "output_type": "display_data"
    }
   ],
   "source": [
    "fig, axs = plt.subplots(ncols=2, figsize=(8, 4))\n",
    "PredictionErrorDisplay.from_predictions(\n",
    "    y_test,\n",
    "    y_pred=predictions_delay,\n",
    "    kind=\"actual_vs_predicted\",\n",
    "    subsample=100,\n",
    "    ax=axs[0],\n",
    "    random_state=0,\n",
    ")\n",
    "axs[0].set_title(\"Actual vs. Predicted values\")\n",
    "PredictionErrorDisplay.from_predictions(\n",
    "    y_test,\n",
    "    y_pred=predictions_delay,\n",
    "    kind=\"residual_vs_predicted\",\n",
    "    subsample=100,\n",
    "    ax=axs[1],\n",
    "    random_state=0,\n",
    ")\n",
    "axs[1].set_title(\"Residuals vs. Predicted Values\")\n",
    "fig.suptitle(\"Plotting cross-validated predictions\")\n",
    "plt.tight_layout()\n",
    "plt.show()"
   ]
  },
  {
   "cell_type": "code",
   "execution_count": 57,
   "metadata": {},
   "outputs": [
    {
     "data": {
      "text/html": [
       "<div>\n",
       "<style scoped>\n",
       "    .dataframe tbody tr th:only-of-type {\n",
       "        vertical-align: middle;\n",
       "    }\n",
       "\n",
       "    .dataframe tbody tr th {\n",
       "        vertical-align: top;\n",
       "    }\n",
       "\n",
       "    .dataframe thead th {\n",
       "        text-align: right;\n",
       "    }\n",
       "</style>\n",
       "<table border=\"1\" class=\"dataframe\">\n",
       "  <thead>\n",
       "    <tr style=\"text-align: right;\">\n",
       "      <th></th>\n",
       "      <th>CRS_DEP_TIME</th>\n",
       "      <th>CRS_ELAPSED_TIME</th>\n",
       "      <th>DISTANCE</th>\n",
       "      <th>DELAYED_TIME</th>\n",
       "      <th>DELAYED</th>\n",
       "      <th>AIRLINE_CODE_9E</th>\n",
       "      <th>AIRLINE_CODE_AA</th>\n",
       "      <th>AIRLINE_CODE_AS</th>\n",
       "      <th>AIRLINE_CODE_B6</th>\n",
       "      <th>AIRLINE_CODE_DL</th>\n",
       "      <th>...</th>\n",
       "      <th>MONTH_11</th>\n",
       "      <th>MONTH_12</th>\n",
       "      <th>DAY_OF_WEEK_0</th>\n",
       "      <th>DAY_OF_WEEK_1</th>\n",
       "      <th>DAY_OF_WEEK_2</th>\n",
       "      <th>DAY_OF_WEEK_3</th>\n",
       "      <th>DAY_OF_WEEK_4</th>\n",
       "      <th>DAY_OF_WEEK_5</th>\n",
       "      <th>DAY_OF_WEEK_6</th>\n",
       "      <th>DELAYED_PRED</th>\n",
       "    </tr>\n",
       "  </thead>\n",
       "  <tbody>\n",
       "    <tr>\n",
       "      <th>1947749</th>\n",
       "      <td>665</td>\n",
       "      <td>90.0</td>\n",
       "      <td>417.0</td>\n",
       "      <td>0.0</td>\n",
       "      <td>0</td>\n",
       "      <td>0</td>\n",
       "      <td>0</td>\n",
       "      <td>0</td>\n",
       "      <td>0</td>\n",
       "      <td>0</td>\n",
       "      <td>...</td>\n",
       "      <td>0</td>\n",
       "      <td>0</td>\n",
       "      <td>0</td>\n",
       "      <td>0</td>\n",
       "      <td>1</td>\n",
       "      <td>0</td>\n",
       "      <td>0</td>\n",
       "      <td>0</td>\n",
       "      <td>0</td>\n",
       "      <td>6.749305</td>\n",
       "    </tr>\n",
       "    <tr>\n",
       "      <th>1824884</th>\n",
       "      <td>1345</td>\n",
       "      <td>105.0</td>\n",
       "      <td>580.0</td>\n",
       "      <td>68.0</td>\n",
       "      <td>1</td>\n",
       "      <td>0</td>\n",
       "      <td>0</td>\n",
       "      <td>0</td>\n",
       "      <td>0</td>\n",
       "      <td>0</td>\n",
       "      <td>...</td>\n",
       "      <td>0</td>\n",
       "      <td>0</td>\n",
       "      <td>0</td>\n",
       "      <td>0</td>\n",
       "      <td>1</td>\n",
       "      <td>0</td>\n",
       "      <td>0</td>\n",
       "      <td>0</td>\n",
       "      <td>0</td>\n",
       "      <td>19.721961</td>\n",
       "    </tr>\n",
       "    <tr>\n",
       "      <th>1823280</th>\n",
       "      <td>734</td>\n",
       "      <td>103.0</td>\n",
       "      <td>507.0</td>\n",
       "      <td>0.0</td>\n",
       "      <td>0</td>\n",
       "      <td>0</td>\n",
       "      <td>0</td>\n",
       "      <td>0</td>\n",
       "      <td>0</td>\n",
       "      <td>0</td>\n",
       "      <td>...</td>\n",
       "      <td>0</td>\n",
       "      <td>0</td>\n",
       "      <td>0</td>\n",
       "      <td>1</td>\n",
       "      <td>0</td>\n",
       "      <td>0</td>\n",
       "      <td>0</td>\n",
       "      <td>0</td>\n",
       "      <td>0</td>\n",
       "      <td>11.100867</td>\n",
       "    </tr>\n",
       "    <tr>\n",
       "      <th>554871</th>\n",
       "      <td>640</td>\n",
       "      <td>158.0</td>\n",
       "      <td>860.0</td>\n",
       "      <td>0.0</td>\n",
       "      <td>0</td>\n",
       "      <td>1</td>\n",
       "      <td>0</td>\n",
       "      <td>0</td>\n",
       "      <td>0</td>\n",
       "      <td>0</td>\n",
       "      <td>...</td>\n",
       "      <td>0</td>\n",
       "      <td>0</td>\n",
       "      <td>0</td>\n",
       "      <td>0</td>\n",
       "      <td>0</td>\n",
       "      <td>0</td>\n",
       "      <td>0</td>\n",
       "      <td>0</td>\n",
       "      <td>1</td>\n",
       "      <td>4.452430</td>\n",
       "    </tr>\n",
       "    <tr>\n",
       "      <th>473879</th>\n",
       "      <td>1402</td>\n",
       "      <td>315.0</td>\n",
       "      <td>2429.0</td>\n",
       "      <td>0.0</td>\n",
       "      <td>0</td>\n",
       "      <td>0</td>\n",
       "      <td>0</td>\n",
       "      <td>0</td>\n",
       "      <td>1</td>\n",
       "      <td>0</td>\n",
       "      <td>...</td>\n",
       "      <td>0</td>\n",
       "      <td>1</td>\n",
       "      <td>0</td>\n",
       "      <td>0</td>\n",
       "      <td>0</td>\n",
       "      <td>0</td>\n",
       "      <td>0</td>\n",
       "      <td>0</td>\n",
       "      <td>1</td>\n",
       "      <td>30.663367</td>\n",
       "    </tr>\n",
       "  </tbody>\n",
       "</table>\n",
       "<p>5 rows × 190 columns</p>\n",
       "</div>"
      ],
      "text/plain": [
       "         CRS_DEP_TIME  CRS_ELAPSED_TIME  DISTANCE  DELAYED_TIME  DELAYED  \\\n",
       "1947749           665              90.0     417.0           0.0        0   \n",
       "1824884          1345             105.0     580.0          68.0        1   \n",
       "1823280           734             103.0     507.0           0.0        0   \n",
       "554871            640             158.0     860.0           0.0        0   \n",
       "473879           1402             315.0    2429.0           0.0        0   \n",
       "\n",
       "         AIRLINE_CODE_9E  AIRLINE_CODE_AA  AIRLINE_CODE_AS  AIRLINE_CODE_B6  \\\n",
       "1947749                0                0                0                0   \n",
       "1824884                0                0                0                0   \n",
       "1823280                0                0                0                0   \n",
       "554871                 1                0                0                0   \n",
       "473879                 0                0                0                1   \n",
       "\n",
       "         AIRLINE_CODE_DL  ...  MONTH_11  MONTH_12  DAY_OF_WEEK_0  \\\n",
       "1947749                0  ...         0         0              0   \n",
       "1824884                0  ...         0         0              0   \n",
       "1823280                0  ...         0         0              0   \n",
       "554871                 0  ...         0         0              0   \n",
       "473879                 0  ...         0         1              0   \n",
       "\n",
       "         DAY_OF_WEEK_1  DAY_OF_WEEK_2  DAY_OF_WEEK_3  DAY_OF_WEEK_4  \\\n",
       "1947749              0              1              0              0   \n",
       "1824884              0              1              0              0   \n",
       "1823280              1              0              0              0   \n",
       "554871               0              0              0              0   \n",
       "473879               0              0              0              0   \n",
       "\n",
       "         DAY_OF_WEEK_5  DAY_OF_WEEK_6  DELAYED_PRED  \n",
       "1947749              0              0      6.749305  \n",
       "1824884              0              0     19.721961  \n",
       "1823280              0              0     11.100867  \n",
       "554871               0              1      4.452430  \n",
       "473879               0              1     30.663367  \n",
       "\n",
       "[5 rows x 190 columns]"
      ]
     },
     "execution_count": 57,
     "metadata": {},
     "output_type": "execute_result"
    }
   ],
   "source": [
    "# Create dataframe with predictions delay and y test\n",
    "df_delayed_test = df_delayed.loc[y_test.index]\n",
    "df_delayed_test['DELAYED_PRED'] = predictions_delay\n",
    "df_delayed_test.head()"
   ]
  },
  {
   "cell_type": "code",
   "execution_count": 65,
   "metadata": {},
   "outputs": [
    {
     "data": {
      "text/plain": [
       "23914"
      ]
     },
     "execution_count": 65,
     "metadata": {},
     "output_type": "execute_result"
    }
   ],
   "source": [
    "df_delayed_test[(df_delayed_test['DELAYED_PRED'] > 18) & (df_delayed_test['DELAYED'] == 1)].shape[0]"
   ]
  },
  {
   "cell_type": "code",
   "execution_count": 66,
   "metadata": {},
   "outputs": [
    {
     "data": {
      "text/plain": [
       "54952"
      ]
     },
     "execution_count": 66,
     "metadata": {},
     "output_type": "execute_result"
    }
   ],
   "source": [
    "df_delayed_test[(df_delayed_test['DELAYED_PRED'] < 18) & (df_delayed_test['DELAYED'] == 1)].shape[0]"
   ]
  },
  {
   "cell_type": "code",
   "execution_count": 67,
   "metadata": {},
   "outputs": [
    {
     "data": {
      "text/plain": [
       "52946"
      ]
     },
     "execution_count": 67,
     "metadata": {},
     "output_type": "execute_result"
    }
   ],
   "source": [
    "df_delayed_test[(df_delayed_test['DELAYED_PRED'] > 18) & (df_delayed_test['DELAYED'] == 0)].shape[0]"
   ]
  },
  {
   "cell_type": "code",
   "execution_count": 85,
   "metadata": {},
   "outputs": [
    {
     "data": {
      "text/plain": [
       "0.31113713244860786"
      ]
     },
     "execution_count": 85,
     "metadata": {},
     "output_type": "execute_result"
    }
   ],
   "source": [
    "23914 / (23914 + 52946)"
   ]
  },
  {
   "cell_type": "code",
   "execution_count": 68,
   "metadata": {},
   "outputs": [
    {
     "data": {
      "text/plain": [
       "290362"
      ]
     },
     "execution_count": 68,
     "metadata": {},
     "output_type": "execute_result"
    }
   ],
   "source": [
    "df_delayed_test[(df_delayed_test['DELAYED_PRED'] < 18) & (df_delayed_test['DELAYED'] == 0)].shape[0]"
   ]
  },
  {
   "cell_type": "code",
   "execution_count": 63,
   "metadata": {},
   "outputs": [
    {
     "data": {
      "text/plain": [
       "0.30322318869981996"
      ]
     },
     "execution_count": 63,
     "metadata": {},
     "output_type": "execute_result"
    }
   ],
   "source": [
    "# Percentage delayed that were predicted over 18 minutes delayed\n",
    "df_delayed_test[(df_delayed_test['DELAYED_PRED'] > 18) & (df_delayed_test['DELAYED'] == 1)].shape[0] / df_delayed_test[df_delayed_test['DELAYED'] == 1].shape[0]\n"
   ]
  },
  {
   "cell_type": "code",
   "execution_count": 86,
   "metadata": {},
   "outputs": [
    {
     "data": {
      "text/plain": [
       "0.31113713244860786"
      ]
     },
     "execution_count": 86,
     "metadata": {},
     "output_type": "execute_result"
    }
   ],
   "source": [
    "df_delayed_test[(df_delayed_test['DELAYED_PRED'] > 18) & (df_delayed_test['DELAYED'] == 1)].shape[0] / df_delayed_test[df_delayed_test['DELAYED_PRED'] > 18].shape[0]"
   ]
  },
  {
   "cell_type": "code",
   "execution_count": 64,
   "metadata": {},
   "outputs": [
    {
     "data": {
      "text/plain": [
       "0.6967768113001801"
      ]
     },
     "execution_count": 64,
     "metadata": {},
     "output_type": "execute_result"
    }
   ],
   "source": [
    "# So the percent that were predicted under 18 but were delayed\n",
    "df_delayed_test[(df_delayed_test['DELAYED_PRED'] < 18) & (df_delayed_test['DELAYED'] == 1)].shape[0] / df_delayed_test[df_delayed_test['DELAYED'] == 1].shape[0]"
   ]
  },
  {
   "cell_type": "code",
   "execution_count": 70,
   "metadata": {},
   "outputs": [
    {
     "data": {
      "text/plain": [
       "0.6713412623944413"
      ]
     },
     "execution_count": 70,
     "metadata": {},
     "output_type": "execute_result"
    }
   ],
   "source": [
    "# Predicted over 18 but not delayed\n",
    "df_delayed_test[(df_delayed_test['DELAYED_PRED'] > 18) & (df_delayed_test['DELAYED'] == 0)].shape[0] / df_delayed_test[df_delayed_test['DELAYED'] == 1].shape[0]"
   ]
  },
  {
   "cell_type": "code",
   "execution_count": 84,
   "metadata": {},
   "outputs": [
    {
     "data": {
      "text/plain": [
       "0.053608256666846"
      ]
     },
     "execution_count": 84,
     "metadata": {},
     "output_type": "execute_result"
    }
   ],
   "source": [
    "df_delayed_test[(df_delayed_test['DELAYED_PRED'] > 18) & (df_delayed_test['DELAYED'] == 1)].shape[0] / (df_delayed_test[(df_delayed_test['DELAYED'] == 1) & (df_delayed_test['DELAYED_PRED'] > 18)].shape[0] + df_delayed_test[(df_delayed_test['DELAYED'] == 0) & (df_delayed_test['DELAYED_TIME'] < 18)].shape[0])"
   ]
  },
  {
   "cell_type": "markdown",
   "metadata": {},
   "source": [
    "So using this method and setting a threshold before classifying a flight as \"likely delayed\" for the users when predicted time is over 18 would be very inaccurate."
   ]
  },
  {
   "cell_type": "code",
   "execution_count": 72,
   "metadata": {},
   "outputs": [
    {
     "data": {
      "text/plain": [
       "0.8457769699511809"
      ]
     },
     "execution_count": 72,
     "metadata": {},
     "output_type": "execute_result"
    }
   ],
   "source": [
    "# Predicted under 18 and not delayed\n",
    "df_delayed_test[(df_delayed_test['DELAYED_PRED'] < 18) & (df_delayed_test['DELAYED'] == 0)].shape[0] / df_delayed_test[df_delayed_test['DELAYED'] == 0].shape[0]"
   ]
  },
  {
   "cell_type": "code",
   "execution_count": 77,
   "metadata": {},
   "outputs": [],
   "source": [
    "# Set predicted delay to 1 if DELAYED_PRED time is > 18\n",
    "df_delayed_test['DELAYED_PRED_YN'] = df_delayed_test['DELAYED_PRED'].apply(lambda x: 1 if x > 18 else 0)"
   ]
  },
  {
   "cell_type": "code",
   "execution_count": 78,
   "metadata": {},
   "outputs": [
    {
     "data": {
      "text/plain": [
       "0.7444229156698423"
      ]
     },
     "execution_count": 78,
     "metadata": {},
     "output_type": "execute_result"
    }
   ],
   "source": [
    "accuracy_score(df_delayed_test['DELAYED'], df_delayed_test['DELAYED_PRED_YN'])"
   ]
  },
  {
   "cell_type": "code",
   "execution_count": null,
   "metadata": {},
   "outputs": [],
   "source": []
  },
  {
   "cell_type": "code",
   "execution_count": 79,
   "metadata": {},
   "outputs": [],
   "source": [
    "df_actual_delay = df_delayed_test[df_delayed_test['DELAYED'] == 1]"
   ]
  },
  {
   "cell_type": "code",
   "execution_count": 74,
   "metadata": {},
   "outputs": [
    {
     "data": {
      "text/html": [
       "<div>\n",
       "<style scoped>\n",
       "    .dataframe tbody tr th:only-of-type {\n",
       "        vertical-align: middle;\n",
       "    }\n",
       "\n",
       "    .dataframe tbody tr th {\n",
       "        vertical-align: top;\n",
       "    }\n",
       "\n",
       "    .dataframe thead th {\n",
       "        text-align: right;\n",
       "    }\n",
       "</style>\n",
       "<table border=\"1\" class=\"dataframe\">\n",
       "  <thead>\n",
       "    <tr style=\"text-align: right;\">\n",
       "      <th></th>\n",
       "      <th>CRS_DEP_TIME</th>\n",
       "      <th>CRS_ELAPSED_TIME</th>\n",
       "      <th>DISTANCE</th>\n",
       "      <th>DELAYED_TIME</th>\n",
       "      <th>DELAYED</th>\n",
       "      <th>AIRLINE_CODE_9E</th>\n",
       "      <th>AIRLINE_CODE_AA</th>\n",
       "      <th>AIRLINE_CODE_AS</th>\n",
       "      <th>AIRLINE_CODE_B6</th>\n",
       "      <th>AIRLINE_CODE_DL</th>\n",
       "      <th>...</th>\n",
       "      <th>MONTH_11</th>\n",
       "      <th>MONTH_12</th>\n",
       "      <th>DAY_OF_WEEK_0</th>\n",
       "      <th>DAY_OF_WEEK_1</th>\n",
       "      <th>DAY_OF_WEEK_2</th>\n",
       "      <th>DAY_OF_WEEK_3</th>\n",
       "      <th>DAY_OF_WEEK_4</th>\n",
       "      <th>DAY_OF_WEEK_5</th>\n",
       "      <th>DAY_OF_WEEK_6</th>\n",
       "      <th>DELAYED_PRED</th>\n",
       "    </tr>\n",
       "  </thead>\n",
       "  <tbody>\n",
       "    <tr>\n",
       "      <th>1824884</th>\n",
       "      <td>1345</td>\n",
       "      <td>105.0</td>\n",
       "      <td>580.0</td>\n",
       "      <td>68.0</td>\n",
       "      <td>1</td>\n",
       "      <td>0</td>\n",
       "      <td>0</td>\n",
       "      <td>0</td>\n",
       "      <td>0</td>\n",
       "      <td>0</td>\n",
       "      <td>...</td>\n",
       "      <td>0</td>\n",
       "      <td>0</td>\n",
       "      <td>0</td>\n",
       "      <td>0</td>\n",
       "      <td>1</td>\n",
       "      <td>0</td>\n",
       "      <td>0</td>\n",
       "      <td>0</td>\n",
       "      <td>0</td>\n",
       "      <td>19.721961</td>\n",
       "    </tr>\n",
       "    <tr>\n",
       "      <th>1907690</th>\n",
       "      <td>949</td>\n",
       "      <td>219.0</td>\n",
       "      <td>1524.0</td>\n",
       "      <td>163.0</td>\n",
       "      <td>1</td>\n",
       "      <td>0</td>\n",
       "      <td>0</td>\n",
       "      <td>0</td>\n",
       "      <td>0</td>\n",
       "      <td>0</td>\n",
       "      <td>...</td>\n",
       "      <td>0</td>\n",
       "      <td>0</td>\n",
       "      <td>0</td>\n",
       "      <td>0</td>\n",
       "      <td>0</td>\n",
       "      <td>0</td>\n",
       "      <td>1</td>\n",
       "      <td>0</td>\n",
       "      <td>0</td>\n",
       "      <td>18.499305</td>\n",
       "    </tr>\n",
       "    <tr>\n",
       "      <th>943681</th>\n",
       "      <td>1199</td>\n",
       "      <td>141.0</td>\n",
       "      <td>569.0</td>\n",
       "      <td>61.0</td>\n",
       "      <td>1</td>\n",
       "      <td>1</td>\n",
       "      <td>0</td>\n",
       "      <td>0</td>\n",
       "      <td>0</td>\n",
       "      <td>0</td>\n",
       "      <td>...</td>\n",
       "      <td>0</td>\n",
       "      <td>1</td>\n",
       "      <td>0</td>\n",
       "      <td>0</td>\n",
       "      <td>1</td>\n",
       "      <td>0</td>\n",
       "      <td>0</td>\n",
       "      <td>0</td>\n",
       "      <td>0</td>\n",
       "      <td>21.366492</td>\n",
       "    </tr>\n",
       "    <tr>\n",
       "      <th>1611198</th>\n",
       "      <td>842</td>\n",
       "      <td>158.0</td>\n",
       "      <td>854.0</td>\n",
       "      <td>42.0</td>\n",
       "      <td>1</td>\n",
       "      <td>0</td>\n",
       "      <td>0</td>\n",
       "      <td>0</td>\n",
       "      <td>0</td>\n",
       "      <td>0</td>\n",
       "      <td>...</td>\n",
       "      <td>0</td>\n",
       "      <td>0</td>\n",
       "      <td>0</td>\n",
       "      <td>0</td>\n",
       "      <td>0</td>\n",
       "      <td>0</td>\n",
       "      <td>0</td>\n",
       "      <td>0</td>\n",
       "      <td>1</td>\n",
       "      <td>15.139930</td>\n",
       "    </tr>\n",
       "    <tr>\n",
       "      <th>1870306</th>\n",
       "      <td>1019</td>\n",
       "      <td>211.0</td>\n",
       "      <td>1372.0</td>\n",
       "      <td>34.0</td>\n",
       "      <td>1</td>\n",
       "      <td>0</td>\n",
       "      <td>1</td>\n",
       "      <td>0</td>\n",
       "      <td>0</td>\n",
       "      <td>0</td>\n",
       "      <td>...</td>\n",
       "      <td>0</td>\n",
       "      <td>0</td>\n",
       "      <td>0</td>\n",
       "      <td>0</td>\n",
       "      <td>0</td>\n",
       "      <td>0</td>\n",
       "      <td>1</td>\n",
       "      <td>0</td>\n",
       "      <td>0</td>\n",
       "      <td>31.206336</td>\n",
       "    </tr>\n",
       "  </tbody>\n",
       "</table>\n",
       "<p>5 rows × 190 columns</p>\n",
       "</div>"
      ],
      "text/plain": [
       "         CRS_DEP_TIME  CRS_ELAPSED_TIME  DISTANCE  DELAYED_TIME  DELAYED  \\\n",
       "1824884          1345             105.0     580.0          68.0        1   \n",
       "1907690           949             219.0    1524.0         163.0        1   \n",
       "943681           1199             141.0     569.0          61.0        1   \n",
       "1611198           842             158.0     854.0          42.0        1   \n",
       "1870306          1019             211.0    1372.0          34.0        1   \n",
       "\n",
       "         AIRLINE_CODE_9E  AIRLINE_CODE_AA  AIRLINE_CODE_AS  AIRLINE_CODE_B6  \\\n",
       "1824884                0                0                0                0   \n",
       "1907690                0                0                0                0   \n",
       "943681                 1                0                0                0   \n",
       "1611198                0                0                0                0   \n",
       "1870306                0                1                0                0   \n",
       "\n",
       "         AIRLINE_CODE_DL  ...  MONTH_11  MONTH_12  DAY_OF_WEEK_0  \\\n",
       "1824884                0  ...         0         0              0   \n",
       "1907690                0  ...         0         0              0   \n",
       "943681                 0  ...         0         1              0   \n",
       "1611198                0  ...         0         0              0   \n",
       "1870306                0  ...         0         0              0   \n",
       "\n",
       "         DAY_OF_WEEK_1  DAY_OF_WEEK_2  DAY_OF_WEEK_3  DAY_OF_WEEK_4  \\\n",
       "1824884              0              1              0              0   \n",
       "1907690              0              0              0              1   \n",
       "943681               0              1              0              0   \n",
       "1611198              0              0              0              0   \n",
       "1870306              0              0              0              1   \n",
       "\n",
       "         DAY_OF_WEEK_5  DAY_OF_WEEK_6  DELAYED_PRED  \n",
       "1824884              0              0     19.721961  \n",
       "1907690              0              0     18.499305  \n",
       "943681               0              0     21.366492  \n",
       "1611198              0              1     15.139930  \n",
       "1870306              0              0     31.206336  \n",
       "\n",
       "[5 rows x 190 columns]"
      ]
     },
     "execution_count": 74,
     "metadata": {},
     "output_type": "execute_result"
    }
   ],
   "source": [
    "df_actual_delay.head()"
   ]
  },
  {
   "cell_type": "code",
   "execution_count": 88,
   "metadata": {},
   "outputs": [],
   "source": [
    "# Split data into training and test sets\n",
    "(X_train, X_test, \n",
    " y_train, y_test) = train_test_split(df_actual_delay[feature_vars], \n",
    "                                                 df_actual_delay['DELAYED_TIME'], \n",
    "                                                 test_size=0.2,\n",
    "                                                 random_state=random_state)"
   ]
  },
  {
   "cell_type": "code",
   "execution_count": 89,
   "metadata": {},
   "outputs": [],
   "source": [
    "# Drop the delayed column now that we are stratified\n",
    "X_train = X_train.drop('DELAYED', axis=1)\n",
    "X_test = X_test.drop('DELAYED', axis=1)"
   ]
  },
  {
   "cell_type": "code",
   "execution_count": 90,
   "metadata": {},
   "outputs": [],
   "source": [
    "# Standardize features\n",
    "scaler = StandardScaler()\n",
    "X_train = scaler.fit_transform(X_train)\n",
    "X_test = scaler.transform(X_test)"
   ]
  },
  {
   "cell_type": "code",
   "execution_count": 91,
   "metadata": {},
   "outputs": [
    {
     "data": {
      "text/html": [
       "<style>#sk-container-id-2 {color: black;}#sk-container-id-2 pre{padding: 0;}#sk-container-id-2 div.sk-toggleable {background-color: white;}#sk-container-id-2 label.sk-toggleable__label {cursor: pointer;display: block;width: 100%;margin-bottom: 0;padding: 0.3em;box-sizing: border-box;text-align: center;}#sk-container-id-2 label.sk-toggleable__label-arrow:before {content: \"▸\";float: left;margin-right: 0.25em;color: #696969;}#sk-container-id-2 label.sk-toggleable__label-arrow:hover:before {color: black;}#sk-container-id-2 div.sk-estimator:hover label.sk-toggleable__label-arrow:before {color: black;}#sk-container-id-2 div.sk-toggleable__content {max-height: 0;max-width: 0;overflow: hidden;text-align: left;background-color: #f0f8ff;}#sk-container-id-2 div.sk-toggleable__content pre {margin: 0.2em;color: black;border-radius: 0.25em;background-color: #f0f8ff;}#sk-container-id-2 input.sk-toggleable__control:checked~div.sk-toggleable__content {max-height: 200px;max-width: 100%;overflow: auto;}#sk-container-id-2 input.sk-toggleable__control:checked~label.sk-toggleable__label-arrow:before {content: \"▾\";}#sk-container-id-2 div.sk-estimator input.sk-toggleable__control:checked~label.sk-toggleable__label {background-color: #d4ebff;}#sk-container-id-2 div.sk-label input.sk-toggleable__control:checked~label.sk-toggleable__label {background-color: #d4ebff;}#sk-container-id-2 input.sk-hidden--visually {border: 0;clip: rect(1px 1px 1px 1px);clip: rect(1px, 1px, 1px, 1px);height: 1px;margin: -1px;overflow: hidden;padding: 0;position: absolute;width: 1px;}#sk-container-id-2 div.sk-estimator {font-family: monospace;background-color: #f0f8ff;border: 1px dotted black;border-radius: 0.25em;box-sizing: border-box;margin-bottom: 0.5em;}#sk-container-id-2 div.sk-estimator:hover {background-color: #d4ebff;}#sk-container-id-2 div.sk-parallel-item::after {content: \"\";width: 100%;border-bottom: 1px solid gray;flex-grow: 1;}#sk-container-id-2 div.sk-label:hover label.sk-toggleable__label {background-color: #d4ebff;}#sk-container-id-2 div.sk-serial::before {content: \"\";position: absolute;border-left: 1px solid gray;box-sizing: border-box;top: 0;bottom: 0;left: 50%;z-index: 0;}#sk-container-id-2 div.sk-serial {display: flex;flex-direction: column;align-items: center;background-color: white;padding-right: 0.2em;padding-left: 0.2em;position: relative;}#sk-container-id-2 div.sk-item {position: relative;z-index: 1;}#sk-container-id-2 div.sk-parallel {display: flex;align-items: stretch;justify-content: center;background-color: white;position: relative;}#sk-container-id-2 div.sk-item::before, #sk-container-id-2 div.sk-parallel-item::before {content: \"\";position: absolute;border-left: 1px solid gray;box-sizing: border-box;top: 0;bottom: 0;left: 50%;z-index: -1;}#sk-container-id-2 div.sk-parallel-item {display: flex;flex-direction: column;z-index: 1;position: relative;background-color: white;}#sk-container-id-2 div.sk-parallel-item:first-child::after {align-self: flex-end;width: 50%;}#sk-container-id-2 div.sk-parallel-item:last-child::after {align-self: flex-start;width: 50%;}#sk-container-id-2 div.sk-parallel-item:only-child::after {width: 0;}#sk-container-id-2 div.sk-dashed-wrapped {border: 1px dashed gray;margin: 0 0.4em 0.5em 0.4em;box-sizing: border-box;padding-bottom: 0.4em;background-color: white;}#sk-container-id-2 div.sk-label label {font-family: monospace;font-weight: bold;display: inline-block;line-height: 1.2em;}#sk-container-id-2 div.sk-label-container {text-align: center;}#sk-container-id-2 div.sk-container {/* jupyter's `normalize.less` sets `[hidden] { display: none; }` but bootstrap.min.css set `[hidden] { display: none !important; }` so we also need the `!important` here to be able to override the default hidden behavior on the sphinx rendered scikit-learn.org. See: https://github.com/scikit-learn/scikit-learn/issues/21755 */display: inline-block !important;position: relative;}#sk-container-id-2 div.sk-text-repr-fallback {display: none;}</style><div id=\"sk-container-id-2\" class=\"sk-top-container\"><div class=\"sk-text-repr-fallback\"><pre>LinearRegression()</pre><b>In a Jupyter environment, please rerun this cell to show the HTML representation or trust the notebook. <br />On GitHub, the HTML representation is unable to render, please try loading this page with nbviewer.org.</b></div><div class=\"sk-container\" hidden><div class=\"sk-item\"><div class=\"sk-estimator sk-toggleable\"><input class=\"sk-toggleable__control sk-hidden--visually\" id=\"sk-estimator-id-2\" type=\"checkbox\" checked><label for=\"sk-estimator-id-2\" class=\"sk-toggleable__label sk-toggleable__label-arrow\">LinearRegression</label><div class=\"sk-toggleable__content\"><pre>LinearRegression()</pre></div></div></div></div></div>"
      ],
      "text/plain": [
       "LinearRegression()"
      ]
     },
     "execution_count": 91,
     "metadata": {},
     "output_type": "execute_result"
    }
   ],
   "source": [
    "# Model for predicting delay duration - Regression\n",
    "model_delay = LinearRegression()\n",
    "model_delay.fit(X_train, y_train)"
   ]
  },
  {
   "cell_type": "code",
   "execution_count": 92,
   "metadata": {},
   "outputs": [
    {
     "name": "stdout",
     "output_type": "stream",
     "text": [
      "Mean Squared Error for Delay Duration Prediction: 8155.372631956798\n"
     ]
    }
   ],
   "source": [
    "predictions_delay = model_delay.predict(X_test)\n",
    "print(\"Mean Squared Error for Delay Duration Prediction:\", mean_squared_error(y_test, predictions_delay))"
   ]
  },
  {
   "cell_type": "code",
   "execution_count": 96,
   "metadata": {},
   "outputs": [
    {
     "data": {
      "text/plain": [
       "array([45.96523685, 54.65273685, 68.09023685, ..., 87.32461185,\n",
       "       77.62148685, 49.99648685])"
      ]
     },
     "execution_count": 96,
     "metadata": {},
     "output_type": "execute_result"
    }
   ],
   "source": [
    "predictions_delay"
   ]
  },
  {
   "cell_type": "code",
   "execution_count": 97,
   "metadata": {},
   "outputs": [
    {
     "data": {
      "text/html": [
       "<div>\n",
       "<style scoped>\n",
       "    .dataframe tbody tr th:only-of-type {\n",
       "        vertical-align: middle;\n",
       "    }\n",
       "\n",
       "    .dataframe tbody tr th {\n",
       "        vertical-align: top;\n",
       "    }\n",
       "\n",
       "    .dataframe thead th {\n",
       "        text-align: right;\n",
       "    }\n",
       "</style>\n",
       "<table border=\"1\" class=\"dataframe\">\n",
       "  <thead>\n",
       "    <tr style=\"text-align: right;\">\n",
       "      <th></th>\n",
       "      <th>CRS_DEP_TIME</th>\n",
       "      <th>CRS_ELAPSED_TIME</th>\n",
       "      <th>DISTANCE</th>\n",
       "      <th>DELAYED_TIME</th>\n",
       "      <th>DELAYED</th>\n",
       "      <th>AIRLINE_CODE_9E</th>\n",
       "      <th>AIRLINE_CODE_AA</th>\n",
       "      <th>AIRLINE_CODE_AS</th>\n",
       "      <th>AIRLINE_CODE_B6</th>\n",
       "      <th>AIRLINE_CODE_DL</th>\n",
       "      <th>...</th>\n",
       "      <th>DAY_OF_WEEK_0</th>\n",
       "      <th>DAY_OF_WEEK_1</th>\n",
       "      <th>DAY_OF_WEEK_2</th>\n",
       "      <th>DAY_OF_WEEK_3</th>\n",
       "      <th>DAY_OF_WEEK_4</th>\n",
       "      <th>DAY_OF_WEEK_5</th>\n",
       "      <th>DAY_OF_WEEK_6</th>\n",
       "      <th>DELAYED_PRED</th>\n",
       "      <th>DELAYED_PRED_YN</th>\n",
       "      <th>DELAYED_PRED2</th>\n",
       "    </tr>\n",
       "  </thead>\n",
       "  <tbody>\n",
       "    <tr>\n",
       "      <th>1455412</th>\n",
       "      <td>540</td>\n",
       "      <td>130.0</td>\n",
       "      <td>849.0</td>\n",
       "      <td>36.0</td>\n",
       "      <td>1</td>\n",
       "      <td>0</td>\n",
       "      <td>0</td>\n",
       "      <td>0</td>\n",
       "      <td>0</td>\n",
       "      <td>0</td>\n",
       "      <td>...</td>\n",
       "      <td>0</td>\n",
       "      <td>0</td>\n",
       "      <td>0</td>\n",
       "      <td>0</td>\n",
       "      <td>0</td>\n",
       "      <td>1</td>\n",
       "      <td>0</td>\n",
       "      <td>6.589149</td>\n",
       "      <td>0</td>\n",
       "      <td>45.965237</td>\n",
       "    </tr>\n",
       "    <tr>\n",
       "      <th>2023510</th>\n",
       "      <td>925</td>\n",
       "      <td>160.0</td>\n",
       "      <td>919.0</td>\n",
       "      <td>92.0</td>\n",
       "      <td>1</td>\n",
       "      <td>0</td>\n",
       "      <td>0</td>\n",
       "      <td>0</td>\n",
       "      <td>0</td>\n",
       "      <td>0</td>\n",
       "      <td>...</td>\n",
       "      <td>0</td>\n",
       "      <td>0</td>\n",
       "      <td>0</td>\n",
       "      <td>0</td>\n",
       "      <td>0</td>\n",
       "      <td>0</td>\n",
       "      <td>1</td>\n",
       "      <td>14.132117</td>\n",
       "      <td>0</td>\n",
       "      <td>54.652737</td>\n",
       "    </tr>\n",
       "    <tr>\n",
       "      <th>1045879</th>\n",
       "      <td>972</td>\n",
       "      <td>238.0</td>\n",
       "      <td>1506.0</td>\n",
       "      <td>38.0</td>\n",
       "      <td>1</td>\n",
       "      <td>0</td>\n",
       "      <td>0</td>\n",
       "      <td>0</td>\n",
       "      <td>0</td>\n",
       "      <td>0</td>\n",
       "      <td>...</td>\n",
       "      <td>1</td>\n",
       "      <td>0</td>\n",
       "      <td>0</td>\n",
       "      <td>0</td>\n",
       "      <td>0</td>\n",
       "      <td>0</td>\n",
       "      <td>0</td>\n",
       "      <td>12.507117</td>\n",
       "      <td>0</td>\n",
       "      <td>68.090237</td>\n",
       "    </tr>\n",
       "    <tr>\n",
       "      <th>978502</th>\n",
       "      <td>1270</td>\n",
       "      <td>105.0</td>\n",
       "      <td>516.0</td>\n",
       "      <td>167.0</td>\n",
       "      <td>1</td>\n",
       "      <td>0</td>\n",
       "      <td>0</td>\n",
       "      <td>0</td>\n",
       "      <td>0</td>\n",
       "      <td>0</td>\n",
       "      <td>...</td>\n",
       "      <td>0</td>\n",
       "      <td>0</td>\n",
       "      <td>1</td>\n",
       "      <td>0</td>\n",
       "      <td>0</td>\n",
       "      <td>0</td>\n",
       "      <td>0</td>\n",
       "      <td>15.495399</td>\n",
       "      <td>0</td>\n",
       "      <td>53.246487</td>\n",
       "    </tr>\n",
       "    <tr>\n",
       "      <th>1281037</th>\n",
       "      <td>1135</td>\n",
       "      <td>220.0</td>\n",
       "      <td>1587.0</td>\n",
       "      <td>76.0</td>\n",
       "      <td>1</td>\n",
       "      <td>0</td>\n",
       "      <td>0</td>\n",
       "      <td>0</td>\n",
       "      <td>0</td>\n",
       "      <td>0</td>\n",
       "      <td>...</td>\n",
       "      <td>0</td>\n",
       "      <td>1</td>\n",
       "      <td>0</td>\n",
       "      <td>0</td>\n",
       "      <td>0</td>\n",
       "      <td>0</td>\n",
       "      <td>0</td>\n",
       "      <td>12.733680</td>\n",
       "      <td>0</td>\n",
       "      <td>51.035549</td>\n",
       "    </tr>\n",
       "  </tbody>\n",
       "</table>\n",
       "<p>5 rows × 192 columns</p>\n",
       "</div>"
      ],
      "text/plain": [
       "         CRS_DEP_TIME  CRS_ELAPSED_TIME  DISTANCE  DELAYED_TIME  DELAYED  \\\n",
       "1455412           540             130.0     849.0          36.0        1   \n",
       "2023510           925             160.0     919.0          92.0        1   \n",
       "1045879           972             238.0    1506.0          38.0        1   \n",
       "978502           1270             105.0     516.0         167.0        1   \n",
       "1281037          1135             220.0    1587.0          76.0        1   \n",
       "\n",
       "         AIRLINE_CODE_9E  AIRLINE_CODE_AA  AIRLINE_CODE_AS  AIRLINE_CODE_B6  \\\n",
       "1455412                0                0                0                0   \n",
       "2023510                0                0                0                0   \n",
       "1045879                0                0                0                0   \n",
       "978502                 0                0                0                0   \n",
       "1281037                0                0                0                0   \n",
       "\n",
       "         AIRLINE_CODE_DL  ...  DAY_OF_WEEK_0  DAY_OF_WEEK_1  DAY_OF_WEEK_2  \\\n",
       "1455412                0  ...              0              0              0   \n",
       "2023510                0  ...              0              0              0   \n",
       "1045879                0  ...              1              0              0   \n",
       "978502                 0  ...              0              0              1   \n",
       "1281037                0  ...              0              1              0   \n",
       "\n",
       "         DAY_OF_WEEK_3  DAY_OF_WEEK_4  DAY_OF_WEEK_5  DAY_OF_WEEK_6  \\\n",
       "1455412              0              0              1              0   \n",
       "2023510              0              0              0              1   \n",
       "1045879              0              0              0              0   \n",
       "978502               0              0              0              0   \n",
       "1281037              0              0              0              0   \n",
       "\n",
       "         DELAYED_PRED  DELAYED_PRED_YN  DELAYED_PRED2  \n",
       "1455412      6.589149                0      45.965237  \n",
       "2023510     14.132117                0      54.652737  \n",
       "1045879     12.507117                0      68.090237  \n",
       "978502      15.495399                0      53.246487  \n",
       "1281037     12.733680                0      51.035549  \n",
       "\n",
       "[5 rows x 192 columns]"
      ]
     },
     "execution_count": 97,
     "metadata": {},
     "output_type": "execute_result"
    }
   ],
   "source": [
    "# Create dataframe with predictions delay and y test\n",
    "df_actual_delay = df_actual_delay.loc[y_test.index]\n",
    "df_actual_delay['DELAYED_PRED2'] = predictions_delay\n",
    "df_actual_delay.head()"
   ]
  },
  {
   "cell_type": "code",
   "execution_count": 98,
   "metadata": {},
   "outputs": [
    {
     "data": {
      "text/plain": [
       "1455412     36.0\n",
       "2023510     92.0\n",
       "1045879     38.0\n",
       "978502     167.0\n",
       "1281037     76.0\n",
       "           ...  \n",
       "1994849     36.0\n",
       "495548      64.0\n",
       "2093059     17.0\n",
       "1878488     46.0\n",
       "618369      23.0\n",
       "Name: DELAYED_TIME, Length: 15774, dtype: float64"
      ]
     },
     "execution_count": 98,
     "metadata": {},
     "output_type": "execute_result"
    }
   ],
   "source": [
    "df_actual_delay['DELAYED_TIME']"
   ]
  },
  {
   "cell_type": "code",
   "execution_count": 99,
   "metadata": {},
   "outputs": [
    {
     "name": "stdout",
     "output_type": "stream",
     "text": [
      "Mean Squared Error for Delay Duration Prediction on Flights Delayed: 8155.372631956798\n"
     ]
    }
   ],
   "source": [
    "print(\"Mean Squared Error for Delay Duration Prediction on Flights Delayed:\", mean_squared_error(df_actual_delay['DELAYED_TIME'], df_actual_delay['DELAYED_PRED2']))"
   ]
  },
  {
   "cell_type": "code",
   "execution_count": 100,
   "metadata": {},
   "outputs": [
    {
     "data": {
      "image/png": "[encoded data removed]",
      "text/plain": [
       "<Figure size 800x400 with 2 Axes>"
      ]
     },
     "metadata": {},
     "output_type": "display_data"
    }
   ],
   "source": [
    "fig, axs = plt.subplots(ncols=2, figsize=(8, 4))\n",
    "PredictionErrorDisplay.from_predictions(\n",
    "    df_actual_delay['DELAYED_TIME'],\n",
    "    y_pred=df_actual_delay['DELAYED_PRED2'],\n",
    "    kind=\"actual_vs_predicted\",\n",
    "    subsample=100,\n",
    "    ax=axs[0],\n",
    "    random_state=0,\n",
    ")\n",
    "axs[0].set_title(\"Actual vs. Predicted values\")\n",
    "PredictionErrorDisplay.from_predictions(\n",
    "    df_actual_delay['DELAYED_TIME'],\n",
    "    y_pred=df_actual_delay['DELAYED_PRED2'],\n",
    "    kind=\"residual_vs_predicted\",\n",
    "    subsample=100,\n",
    "    ax=axs[1],\n",
    "    random_state=0,\n",
    ")\n",
    "axs[1].set_title(\"Residuals vs. Predicted Values\")\n",
    "fig.suptitle(\"Plotting cross-validated predictions\")\n",
    "plt.tight_layout()\n",
    "plt.show()"
   ]
  },
  {
   "cell_type": "markdown",
   "metadata": {},
   "source": [
    "So model did not do great predicting time on those actually delayed"
   ]
  }
 ],
 "metadata": {
  "kernelspec": {
   "display_name": "ds",
   "language": "python",
   "name": "python3"
  },
  "language_info": {
   "codemirror_mode": {
    "name": "ipython",
    "version": 3
   },
   "file_extension": ".py",
   "mimetype": "text/x-python",
   "name": "python",
   "nbconvert_exporter": "python",
   "pygments_lexer": "ipython3",
   "version": "3.10.12"
  }
 },
 "nbformat": 4,
 "nbformat_minor": 2
}
